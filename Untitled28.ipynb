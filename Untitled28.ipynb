{
 "cells": [
  {
   "cell_type": "code",
   "execution_count": 2,
   "id": "3e4d30fa-26f7-45b4-9fb9-73483b0b69c5",
   "metadata": {},
   "outputs": [
    {
     "name": "stdout",
     "output_type": "stream",
     "text": [
      "The current date and time is: 2024-09-11 21:52:15.466138\n"
     ]
    }
   ],
   "source": [
    "# Exercise: Date and Time Display\n",
    "# Author: Sriman\n",
    "\n",
    "import datetime  # Import the datetime module to access date and time functions\n",
    "\n",
    "def display_current_datetime():\n",
    "    # Fetch the current date and time using the `now` method from the datetime class\n",
    "    now = datetime.datetime.now()\n",
    "    \n",
    "    # Output the current date and time in a user-friendly format\n",
    "    print(\"The current date and time is:\", now)\n",
    "\n",
    "# Call the function to show the current date and time\n",
    "display_current_datetime()\n"
   ]
  },
  {
   "cell_type": "code",
   "execution_count": null,
   "id": "dab2444f-6ef8-4a69-a6a2-cccfcda37b50",
   "metadata": {},
   "outputs": [],
   "source": []
  }
 ],
 "metadata": {
  "kernelspec": {
   "display_name": "Python 3 (ipykernel)",
   "language": "python",
   "name": "python3"
  },
  "language_info": {
   "codemirror_mode": {
    "name": "ipython",
    "version": 3
   },
   "file_extension": ".py",
   "mimetype": "text/x-python",
   "name": "python",
   "nbconvert_exporter": "python",
   "pygments_lexer": "ipython3",
   "version": "3.12.4"
  }
 },
 "nbformat": 4,
 "nbformat_minor": 5
}
